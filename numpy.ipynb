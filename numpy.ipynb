{
  "nbformat": 4,
  "nbformat_minor": 0,
  "metadata": {
    "colab": {
      "provenance": [],
      "toc_visible": true,
      "authorship_tag": "ABX9TyMxwTFj+3aK3ETW1gC8ULqw",
      "include_colab_link": true
    },
    "kernelspec": {
      "name": "python3",
      "display_name": "Python 3"
    },
    "language_info": {
      "name": "python"
    }
  },
  "cells": [
    {
      "cell_type": "markdown",
      "metadata": {
        "id": "view-in-github",
        "colab_type": "text"
      },
      "source": [
        "<a href=\"https://colab.research.google.com/github/JIJASH/ml_from_scratch/blob/main/numpy.ipynb\" target=\"_parent\"><img src=\"https://colab.research.google.com/assets/colab-badge.svg\" alt=\"Open In Colab\"/></a>"
      ]
    },
    {
      "cell_type": "markdown",
      "source": [
        "##Introduction to NumPy\n",
        "\n",
        "What will we cover?\n",
        "- Creating arrays\n",
        "- Multidimensional arrays\n",
        "- Randomly generated arrays\n",
        "- Element wise operations\n",
        "  - Comparison operations\n",
        "  - Logical operations\n",
        "- Summarizing operations"
      ],
      "metadata": {
        "id": "NO0gAwoVgi2e"
      }
    },
    {
      "cell_type": "markdown",
      "source": [
        "### ✅Single Dimensional arrays"
      ],
      "metadata": {
        "id": "x3pxWSYrn1R-"
      }
    },
    {
      "cell_type": "code",
      "source": [
        "import numpy as np\n"
      ],
      "metadata": {
        "id": "DFIvtM7GhMW6"
      },
      "execution_count": 2,
      "outputs": []
    },
    {
      "cell_type": "markdown",
      "source": [
        "Creating arrays"
      ],
      "metadata": {
        "id": "km76wqI-i28Z"
      }
    },
    {
      "cell_type": "code",
      "source": [
        "v=np.zeros(5)"
      ],
      "metadata": {
        "id": "P_JuFmUSiYRs"
      },
      "execution_count": 4,
      "outputs": []
    },
    {
      "cell_type": "code",
      "source": [
        "print(type(v))"
      ],
      "metadata": {
        "colab": {
          "base_uri": "https://localhost:8080/"
        },
        "id": "ZoIqs3Pxi8eh",
        "outputId": "5fc9be27-85f3-446d-80c0-2063949f659c"
      },
      "execution_count": 5,
      "outputs": [
        {
          "output_type": "stream",
          "name": "stdout",
          "text": [
            "<class 'numpy.ndarray'>\n"
          ]
        }
      ]
    },
    {
      "cell_type": "code",
      "source": [
        "np.zeros(10)"
      ],
      "metadata": {
        "colab": {
          "base_uri": "https://localhost:8080/"
        },
        "id": "7PouQx7qjLMO",
        "outputId": "485af39e-c5a1-4d71-ba43-c02ec5b6bc64"
      },
      "execution_count": 6,
      "outputs": [
        {
          "output_type": "execute_result",
          "data": {
            "text/plain": [
              "array([0., 0., 0., 0., 0., 0., 0., 0., 0., 0.])"
            ]
          },
          "metadata": {},
          "execution_count": 6
        }
      ]
    },
    {
      "cell_type": "code",
      "source": [
        "np.ones(10)\n"
      ],
      "metadata": {
        "colab": {
          "base_uri": "https://localhost:8080/"
        },
        "id": "4nwBKX4ijOrA",
        "outputId": "2d92a5f9-ec2d-4c60-843c-65f09bbf5dcb"
      },
      "execution_count": 12,
      "outputs": [
        {
          "output_type": "execute_result",
          "data": {
            "text/plain": [
              "array([1., 1., 1., 1., 1., 1., 1., 1., 1., 1.])"
            ]
          },
          "metadata": {},
          "execution_count": 12
        }
      ]
    },
    {
      "cell_type": "code",
      "source": [
        "np.full(10, 3)"
      ],
      "metadata": {
        "colab": {
          "base_uri": "https://localhost:8080/"
        },
        "id": "ysxGpPN4jdRc",
        "outputId": "5bbf9134-287a-4867-eed7-33ec6b088e22"
      },
      "execution_count": 13,
      "outputs": [
        {
          "output_type": "execute_result",
          "data": {
            "text/plain": [
              "array([3, 3, 3, 3, 3, 3, 3, 3, 3, 3])"
            ]
          },
          "metadata": {},
          "execution_count": 13
        }
      ]
    },
    {
      "cell_type": "markdown",
      "source": [
        "write a clean code !!! with spaces after every things !!"
      ],
      "metadata": {
        "id": "44leSh4XlTZl"
      }
    },
    {
      "cell_type": "code",
      "source": [
        "np.array([1, 2, 3, 4, 5])"
      ],
      "metadata": {
        "colab": {
          "base_uri": "https://localhost:8080/"
        },
        "id": "71C8SM3gkj7n",
        "outputId": "8ccb5bca-dc3f-4e2c-dd59-afd199a192cf"
      },
      "execution_count": 14,
      "outputs": [
        {
          "output_type": "execute_result",
          "data": {
            "text/plain": [
              "array([1, 2, 3, 4, 5])"
            ]
          },
          "metadata": {},
          "execution_count": 14
        }
      ]
    },
    {
      "cell_type": "code",
      "source": [
        "arr=np.array([1, 2, 3, 4, 5])\n",
        "arr[2]=5\n",
        "print(arr)"
      ],
      "metadata": {
        "colab": {
          "base_uri": "https://localhost:8080/"
        },
        "id": "RfabVF_ClnTJ",
        "outputId": "6a634207-1eda-4258-d089-1915f5a60164"
      },
      "execution_count": 16,
      "outputs": [
        {
          "output_type": "stream",
          "name": "stdout",
          "text": [
            "[1 2 5 4 5]\n"
          ]
        }
      ]
    },
    {
      "cell_type": "code",
      "source": [
        "np.arange(3, 10)"
      ],
      "metadata": {
        "colab": {
          "base_uri": "https://localhost:8080/"
        },
        "id": "_E7Sj6TCl38G",
        "outputId": "f02b6a28-bb3e-4f87-d88d-237479aa85b9"
      },
      "execution_count": 17,
      "outputs": [
        {
          "output_type": "execute_result",
          "data": {
            "text/plain": [
              "array([3, 4, 5, 6, 7, 8, 9])"
            ]
          },
          "metadata": {},
          "execution_count": 17
        }
      ]
    },
    {
      "cell_type": "markdown",
      "source": [
        "\n",
        " Create a arrays with evenly spaced numbers within a specified range\n"
      ],
      "metadata": {
        "id": "NEegmFUPmv94"
      }
    },
    {
      "cell_type": "code",
      "source": [
        "np.linspace(0, 100, 11)"
      ],
      "metadata": {
        "colab": {
          "base_uri": "https://localhost:8080/"
        },
        "id": "B05U7LPTmpQz",
        "outputId": "fbcb5c88-0dd1-492e-8ce0-35c137b67515"
      },
      "execution_count": 18,
      "outputs": [
        {
          "output_type": "execute_result",
          "data": {
            "text/plain": [
              "array([  0.,  10.,  20.,  30.,  40.,  50.,  60.,  70.,  80.,  90., 100.])"
            ]
          },
          "metadata": {},
          "execution_count": 18
        }
      ]
    },
    {
      "cell_type": "code",
      "source": [
        "np.linspace(0, 100, 10)"
      ],
      "metadata": {
        "colab": {
          "base_uri": "https://localhost:8080/"
        },
        "id": "vD2yVT2gnFMy",
        "outputId": "eac5ef92-a208-4945-f30a-d62b682a6d71"
      },
      "execution_count": 19,
      "outputs": [
        {
          "output_type": "execute_result",
          "data": {
            "text/plain": [
              "array([  0.        ,  11.11111111,  22.22222222,  33.33333333,\n",
              "        44.44444444,  55.55555556,  66.66666667,  77.77777778,\n",
              "        88.88888889, 100.        ])"
            ]
          },
          "metadata": {},
          "execution_count": 19
        }
      ]
    },
    {
      "cell_type": "markdown",
      "source": [
        "### ✅Multi dimensional array"
      ],
      "metadata": {
        "id": "BdAUBxBkoIRz"
      }
    },
    {
      "cell_type": "code",
      "source": [
        "np.zeros((5, 2))"
      ],
      "metadata": {
        "colab": {
          "base_uri": "https://localhost:8080/"
        },
        "id": "SPaNPSeyoMKy",
        "outputId": "2c138756-155a-4927-8e25-908fef7d0563"
      },
      "execution_count": 20,
      "outputs": [
        {
          "output_type": "execute_result",
          "data": {
            "text/plain": [
              "array([[0., 0.],\n",
              "       [0., 0.],\n",
              "       [0., 0.],\n",
              "       [0., 0.],\n",
              "       [0., 0.]])"
            ]
          },
          "metadata": {},
          "execution_count": 20
        }
      ]
    },
    {
      "cell_type": "code",
      "source": [
        "np.ones((5,2))"
      ],
      "metadata": {
        "colab": {
          "base_uri": "https://localhost:8080/"
        },
        "id": "1aMK207koZKn",
        "outputId": "b5cae6a4-98d8-4ac3-9d95-26a3ee736de2"
      },
      "execution_count": 21,
      "outputs": [
        {
          "output_type": "execute_result",
          "data": {
            "text/plain": [
              "array([[1., 1.],\n",
              "       [1., 1.],\n",
              "       [1., 1.],\n",
              "       [1., 1.],\n",
              "       [1., 1.]])"
            ]
          },
          "metadata": {},
          "execution_count": 21
        }
      ]
    },
    {
      "cell_type": "code",
      "source": [
        "np.array([[1, 2, 3, 4, 5 ],[4, 5, 6, 7, 8],[2, 3, 4, 5, 5]])"
      ],
      "metadata": {
        "colab": {
          "base_uri": "https://localhost:8080/"
        },
        "id": "1KNEOyL8pGXs",
        "outputId": "a63047d8-929e-44bb-b6a7-333be2db094a"
      },
      "execution_count": 27,
      "outputs": [
        {
          "output_type": "execute_result",
          "data": {
            "text/plain": [
              "array([[1, 2, 3, 4, 5],\n",
              "       [4, 5, 6, 7, 8],\n",
              "       [2, 3, 4, 5, 5]])"
            ]
          },
          "metadata": {},
          "execution_count": 27
        }
      ]
    },
    {
      "cell_type": "code",
      "source": [
        "arr=np.array([[1, 2, 3, 4, 5 ],[4, 5, 6, 7, 8],[2, 3, 4, 5, 5]])\n",
        "arr[2, 2]=9\n",
        "arr"
      ],
      "metadata": {
        "colab": {
          "base_uri": "https://localhost:8080/"
        },
        "id": "mLeO_f0mpTbW",
        "outputId": "99d364b5-79b8-4078-9e48-eef9a4a59403"
      },
      "execution_count": 34,
      "outputs": [
        {
          "output_type": "execute_result",
          "data": {
            "text/plain": [
              "array([[1, 2, 3, 4, 5],\n",
              "       [4, 5, 6, 7, 8],\n",
              "       [2, 3, 9, 5, 5]])"
            ]
          },
          "metadata": {},
          "execution_count": 34
        }
      ]
    },
    {
      "cell_type": "code",
      "source": [
        "arr[2]=[1, 1, 1, 1, 1]\n",
        "arr"
      ],
      "metadata": {
        "colab": {
          "base_uri": "https://localhost:8080/"
        },
        "id": "r-i1pUKGqdK8",
        "outputId": "e4421986-dc90-4b45-dee6-9756b74fd2a3"
      },
      "execution_count": 38,
      "outputs": [
        {
          "output_type": "execute_result",
          "data": {
            "text/plain": [
              "array([[1, 2, 3, 4, 2],\n",
              "       [1, 1, 1, 1, 2],\n",
              "       [1, 1, 1, 1, 1]])"
            ]
          },
          "metadata": {},
          "execution_count": 38
        }
      ]
    },
    {
      "cell_type": "code",
      "source": [
        "arr[:,4]=[2, 2, 2]\n",
        "arr"
      ],
      "metadata": {
        "colab": {
          "base_uri": "https://localhost:8080/"
        },
        "id": "_hNlkWpSrJkr",
        "outputId": "b3bff99d-242b-4744-c7d3-c9ed2a64bd70"
      },
      "execution_count": 39,
      "outputs": [
        {
          "output_type": "execute_result",
          "data": {
            "text/plain": [
              "array([[1, 2, 3, 4, 2],\n",
              "       [1, 1, 1, 1, 2],\n",
              "       [1, 1, 1, 1, 2]])"
            ]
          },
          "metadata": {},
          "execution_count": 39
        }
      ]
    },
    {
      "cell_type": "code",
      "source": [
        "arr[1]=np.ones(5)\n",
        "arr"
      ],
      "metadata": {
        "colab": {
          "base_uri": "https://localhost:8080/"
        },
        "id": "8-H0tZLArRaI",
        "outputId": "a227df0f-2078-4c02-c0a5-3b726d8b465c"
      },
      "execution_count": 40,
      "outputs": [
        {
          "output_type": "execute_result",
          "data": {
            "text/plain": [
              "array([[1, 2, 3, 4, 2],\n",
              "       [1, 1, 1, 1, 1],\n",
              "       [1, 1, 1, 1, 2]])"
            ]
          },
          "metadata": {},
          "execution_count": 40
        }
      ]
    },
    {
      "cell_type": "markdown",
      "source": [
        "### ✅Randomly generated arrays\n",
        "\n",
        "- Numpy can create arrays filled with random numbers.\n",
        "- To ensure the reproducibility , you can set a seed using np.random.seed()\n",
        "- Everytime you run the code with np.random.seed(2), it will generate the exact same random numbers. If you remove or change the seed values, the sequence of random numbers will be changed ."
      ],
      "metadata": {
        "id": "rmKctUHYsW7j"
      }
    },
    {
      "cell_type": "markdown",
      "source": [
        "rand ko number lies between 0 to 1"
      ],
      "metadata": {
        "id": "3TaSde-zw8Ro"
      }
    },
    {
      "cell_type": "code",
      "source": [
        "np.random.rand(5)"
      ],
      "metadata": {
        "colab": {
          "base_uri": "https://localhost:8080/"
        },
        "id": "ftXv9QlGsZ77",
        "outputId": "7d0063b2-78c1-485a-8673-1deb7c1f3094"
      },
      "execution_count": 52,
      "outputs": [
        {
          "output_type": "execute_result",
          "data": {
            "text/plain": [
              "array([0.51507375, 0.62224152, 0.98099789, 0.56161461, 0.76923031])"
            ]
          },
          "metadata": {},
          "execution_count": 52
        }
      ]
    },
    {
      "cell_type": "code",
      "source": [
        "np.random.seed(4)\n",
        "np.random.rand(5)"
      ],
      "metadata": {
        "colab": {
          "base_uri": "https://localhost:8080/"
        },
        "id": "GMzCji_qt9er",
        "outputId": "b2b4493e-d462-42e4-e829-0f2ca95a1d8d"
      },
      "execution_count": 70,
      "outputs": [
        {
          "output_type": "execute_result",
          "data": {
            "text/plain": [
              "array([0.96702984, 0.54723225, 0.97268436, 0.71481599, 0.69772882])"
            ]
          },
          "metadata": {},
          "execution_count": 70
        }
      ]
    },
    {
      "cell_type": "code",
      "source": [
        "np.random.rand(5,2)"
      ],
      "metadata": {
        "colab": {
          "base_uri": "https://localhost:8080/"
        },
        "id": "vzA5iIIKuQ8B",
        "outputId": "a874bbba-c1da-4c37-d877-fa4237d353a1"
      },
      "execution_count": 71,
      "outputs": [
        {
          "output_type": "execute_result",
          "data": {
            "text/plain": [
              "array([[0.2160895 , 0.97627445],\n",
              "       [0.00623026, 0.25298236],\n",
              "       [0.43479153, 0.77938292],\n",
              "       [0.19768507, 0.86299324],\n",
              "       [0.98340068, 0.16384224]])"
            ]
          },
          "metadata": {},
          "execution_count": 71
        }
      ]
    },
    {
      "cell_type": "code",
      "source": [
        "np.random.seed(4)\n",
        "np.random.rand(5,2)"
      ],
      "metadata": {
        "colab": {
          "base_uri": "https://localhost:8080/"
        },
        "id": "VK2_19O4v7bs",
        "outputId": "a658cc58-ab08-423f-f219-20f3970b4dd7"
      },
      "execution_count": 80,
      "outputs": [
        {
          "output_type": "execute_result",
          "data": {
            "text/plain": [
              "array([[0.96702984, 0.54723225],\n",
              "       [0.97268436, 0.71481599],\n",
              "       [0.69772882, 0.2160895 ],\n",
              "       [0.97627445, 0.00623026],\n",
              "       [0.25298236, 0.43479153]])"
            ]
          },
          "metadata": {},
          "execution_count": 80
        }
      ]
    },
    {
      "cell_type": "markdown",
      "source": [
        "randn will fall under normal distribution that is it generates numbers lies between meu=0 and sigma=1"
      ],
      "metadata": {
        "id": "L48cLnULwuxq"
      }
    },
    {
      "cell_type": "code",
      "source": [
        "np.random.randn(5,2)"
      ],
      "metadata": {
        "colab": {
          "base_uri": "https://localhost:8080/"
        },
        "id": "3WotdsmUwBkg",
        "outputId": "2cac33c4-11aa-4e38-b6be-7ec3f7102c37"
      },
      "execution_count": 83,
      "outputs": [
        {
          "output_type": "execute_result",
          "data": {
            "text/plain": [
              "array([[ 1.69235772, -1.11281215],\n",
              "       [ 1.63574754, -1.36096559],\n",
              "       [-0.65122583,  0.54245131],\n",
              "       [ 0.04800625, -2.35807363],\n",
              "       [-1.10558404,  0.83783635]])"
            ]
          },
          "metadata": {},
          "execution_count": 83
        }
      ]
    },
    {
      "cell_type": "code",
      "source": [
        "np.random.seed(43)\n",
        "np.random.randint(low=0, high=100, size=(5, 2))"
      ],
      "metadata": {
        "colab": {
          "base_uri": "https://localhost:8080/"
        },
        "id": "sRY-j58FwPRv",
        "outputId": "a1d3bc32-16a5-4b59-b4ab-df4c1972e3a6"
      },
      "execution_count": 84,
      "outputs": [
        {
          "output_type": "execute_result",
          "data": {
            "text/plain": [
              "array([[68, 64],\n",
              "       [49, 21],\n",
              "       [58, 16],\n",
              "       [51, 17],\n",
              "       [59, 91]])"
            ]
          },
          "metadata": {},
          "execution_count": 84
        }
      ]
    },
    {
      "cell_type": "code",
      "source": [],
      "metadata": {
        "id": "oOxbBOxXx_7l"
      },
      "execution_count": null,
      "outputs": []
    },
    {
      "cell_type": "markdown",
      "source": [
        "### Elements wise operations\n"
      ],
      "metadata": {
        "id": "6KFTRKdDytuq"
      }
    },
    {
      "cell_type": "code",
      "source": [
        "a = np.arange(5)\n",
        "a"
      ],
      "metadata": {
        "colab": {
          "base_uri": "https://localhost:8080/"
        },
        "id": "1ya-J06jyw0w",
        "outputId": "e83c3cc5-4860-4352-83aa-7c3d96d4eacb"
      },
      "execution_count": 85,
      "outputs": [
        {
          "output_type": "execute_result",
          "data": {
            "text/plain": [
              "array([0, 1, 2, 3, 4])"
            ]
          },
          "metadata": {},
          "execution_count": 85
        }
      ]
    },
    {
      "cell_type": "code",
      "source": [
        "b = (10 + (a * 2))\n",
        "b"
      ],
      "metadata": {
        "colab": {
          "base_uri": "https://localhost:8080/"
        },
        "id": "cs8LxxS3y1Wj",
        "outputId": "610ab1ea-372c-4beb-e9cb-ad2818761aeb"
      },
      "execution_count": 86,
      "outputs": [
        {
          "output_type": "execute_result",
          "data": {
            "text/plain": [
              "array([10, 12, 14, 16, 18])"
            ]
          },
          "metadata": {},
          "execution_count": 86
        }
      ]
    },
    {
      "cell_type": "code",
      "source": [
        "# comparison operations\n",
        "# you can perform element wise comparisons and create boolean arrays\n",
        "\n",
        "a"
      ],
      "metadata": {
        "colab": {
          "base_uri": "https://localhost:8080/"
        },
        "id": "DNM7CBJlzEa6",
        "outputId": "2036296e-0461-4439-96c4-6afa998385a3"
      },
      "execution_count": 87,
      "outputs": [
        {
          "output_type": "execute_result",
          "data": {
            "text/plain": [
              "array([0, 1, 2, 3, 4])"
            ]
          },
          "metadata": {},
          "execution_count": 87
        }
      ]
    },
    {
      "cell_type": "code",
      "source": [
        "a>=2"
      ],
      "metadata": {
        "colab": {
          "base_uri": "https://localhost:8080/"
        },
        "id": "YVsICGtazVjh",
        "outputId": "6be8821d-66a3-4623-f238-6fc8e1933804"
      },
      "execution_count": 88,
      "outputs": [
        {
          "output_type": "execute_result",
          "data": {
            "text/plain": [
              "array([False, False,  True,  True,  True])"
            ]
          },
          "metadata": {},
          "execution_count": 88
        }
      ]
    },
    {
      "cell_type": "code",
      "source": [
        "a > b"
      ],
      "metadata": {
        "colab": {
          "base_uri": "https://localhost:8080/"
        },
        "id": "w_qSYaqPzYF7",
        "outputId": "bea228b9-fb3a-4f3c-8e2c-20e51af1aa4d"
      },
      "execution_count": 89,
      "outputs": [
        {
          "output_type": "execute_result",
          "data": {
            "text/plain": [
              "array([False, False, False, False, False])"
            ]
          },
          "metadata": {},
          "execution_count": 89
        }
      ]
    },
    {
      "cell_type": "code",
      "source": [
        "# Summarizing\n",
        "# Numpy provides function fopr summarizing array of data\n",
        "\n",
        "a"
      ],
      "metadata": {
        "colab": {
          "base_uri": "https://localhost:8080/"
        },
        "id": "m6pLrcNezdy5",
        "outputId": "0403b5f0-1618-4acc-a688-54c0a0dd70e7"
      },
      "execution_count": 90,
      "outputs": [
        {
          "output_type": "execute_result",
          "data": {
            "text/plain": [
              "array([0, 1, 2, 3, 4])"
            ]
          },
          "metadata": {},
          "execution_count": 90
        }
      ]
    },
    {
      "cell_type": "code",
      "source": [
        "#standard deviation\n",
        "a.std()"
      ],
      "metadata": {
        "colab": {
          "base_uri": "https://localhost:8080/"
        },
        "id": "B4ne9JSgzsKU",
        "outputId": "b7741119-292c-490f-c86e-4428d3574fca"
      },
      "execution_count": 91,
      "outputs": [
        {
          "output_type": "execute_result",
          "data": {
            "text/plain": [
              "1.4142135623730951"
            ]
          },
          "metadata": {},
          "execution_count": 91
        }
      ]
    },
    {
      "cell_type": "code",
      "source": [
        "#min value of an array\n",
        "a.min()"
      ],
      "metadata": {
        "colab": {
          "base_uri": "https://localhost:8080/"
        },
        "id": "DG_owIOyzwU5",
        "outputId": "ece3c150-9f3e-4696-f3fa-cf85fcbe34bf"
      },
      "execution_count": 92,
      "outputs": [
        {
          "output_type": "execute_result",
          "data": {
            "text/plain": [
              "0"
            ]
          },
          "metadata": {},
          "execution_count": 92
        }
      ]
    },
    {
      "cell_type": "code",
      "source": [
        "# max value of an array\n",
        "\n",
        "a.max()"
      ],
      "metadata": {
        "colab": {
          "base_uri": "https://localhost:8080/"
        },
        "id": "_Sq1oTxbz6Ji",
        "outputId": "353f348f-7f73-419f-b428-1b7dcadbcc0a"
      },
      "execution_count": 93,
      "outputs": [
        {
          "output_type": "execute_result",
          "data": {
            "text/plain": [
              "4"
            ]
          },
          "metadata": {},
          "execution_count": 93
        }
      ]
    },
    {
      "cell_type": "code",
      "source": [
        "# sum of the elements of an array\n",
        "\n",
        "a.sum()"
      ],
      "metadata": {
        "colab": {
          "base_uri": "https://localhost:8080/"
        },
        "id": "VjlfehUJz-cj",
        "outputId": "193097fd-f013-4f11-938a-5c728b1c147b"
      },
      "execution_count": 94,
      "outputs": [
        {
          "output_type": "execute_result",
          "data": {
            "text/plain": [
              "10"
            ]
          },
          "metadata": {},
          "execution_count": 94
        }
      ]
    },
    {
      "cell_type": "code",
      "source": [],
      "metadata": {
        "id": "aHjkg7nK0C16"
      },
      "execution_count": null,
      "outputs": []
    }
  ]
}